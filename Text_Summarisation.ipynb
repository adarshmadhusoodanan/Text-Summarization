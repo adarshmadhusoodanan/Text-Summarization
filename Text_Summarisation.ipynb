{
  "cells": [
    {
      "cell_type": "markdown",
      "metadata": {},
      "source": [
        "# Text Summarization with TextRank\n",
        "\n",
        "This Jupyter Notebook demonstrates how to summarize a news article using the TextRank algorithm. The notebook includes functions for text preprocessing, sentence tokenization, similarity matrix creation, and the TextRank summarization process. Additionally, a user interface is provided for easy interaction.\n",
        "\n",
        "## Features\n",
        "\n",
        "- **Sentence Tokenization**: Splits text into sentences while handling common abbreviations and sentence terminators.\n",
        "- **Text Preprocessing**: Cleans text by removing special characters and extra whitespace.\n",
        "- **Similarity Matrix Creation**: Uses TF-IDF and cosine similarity to create a similarity matrix for sentences.\n",
        "- **TextRank Summarization**: Applies the TextRank algorithm to rank sentences and generate a summary.\n",
        "- **User Interface**: Provides an interactive UI for inputting text, selecting the number of summary sentences, and displaying the summary.\n",
        "\n",
        "## Requirements\n",
        "\n",
        "- `networkx`\n",
        "- `numpy`\n",
        "- `scikit-learn`\n",
        "- `ipywidgets`\n",
        "\n",
        "## Usage\n",
        "\n",
        "1. **Install Required Packages**:\n",
        "    ```python\n",
        "    !pip install networkx numpy scikit-learn\n",
        "    ```\n",
        "\n",
        "2. **Import Libraries**:\n",
        "    ```python\n",
        "    import re\n",
        "    import numpy as np\n",
        "    import networkx as nx\n",
        "    from sklearn.feature_extraction.text import CountVectorizer, TfidfTransformer\n",
        "    from IPython.display import display\n",
        "    import ipywidgets as widgets\n",
        "    ```\n",
        "\n",
        "3. **Define Functions**:\n",
        "    - `split_into_sentences(text)`: Tokenizes text into sentences.\n",
        "    - `preprocess_text(text)`: Cleans the text.\n",
        "    - `create_similarity_matrix(sentences)`: Creates a similarity matrix using TF-IDF.\n",
        "    - `text_rank_summarize(text, num_sentences=3)`: Summarizes text using TextRank.\n",
        "\n",
        "4. **Create User Interface**:\n",
        "    ```python\n",
        "    article_input = widgets.Textarea(...)\n",
        "    sentence_slider = widgets.IntSlider(...)\n",
        "    summary_output = widgets.Output(...)\n",
        "    summarize_button = widgets.Button(...)\n",
        "    ```\n",
        "\n",
        "5. **Define Button Click Handler**:\n",
        "    ```python\n",
        "    def on_button_clicked(b):\n",
        "        ...\n",
        "    summarize_button.on_click(on_button_clicked)\n",
        "    ```\n",
        "\n",
        "6. **Display Widgets**:\n",
        "    ```python\n",
        "    display(header)\n",
        "    display(article_input)\n",
        "    display(sentence_slider)\n",
        "    display(summarize_button)\n",
        "    display(widgets.HTML(value=\"<h2>Summary:</h2>\"))\n",
        "    display(summary_output)\n",
        "    ```\n",
        "\n",
        "## How to Use\n",
        "\n",
        "1. Enter the news article text in the provided text area.\n",
        "2. Adjust the slider to select the number of sentences for the summary.\n",
        "3. Click the 'Summarize' button to generate and display the summary.\n",
        "\n",
        "The summarizer is now ready to use. Enter your text and click 'Summarize' to get a concise summary of the article."
      ]
    },
    {
      "cell_type": "code",
      "execution_count": null,
      "metadata": {
        "colab": {
          "base_uri": "https://localhost:8080/"
        },
        "id": "MjKSW2o-YXyN",
        "outputId": "f92e0c29-dfcf-4051-eb0c-4bac00acee72"
      },
      "outputs": [
        {
          "name": "stdout",
          "output_type": "stream",
          "text": [
            "Requirement already satisfied: networkx in /usr/local/lib/python3.11/dist-packages (3.4.2)\n",
            "Requirement already satisfied: numpy in /usr/local/lib/python3.11/dist-packages (1.26.4)\n",
            "Requirement already satisfied: scikit-learn in /usr/local/lib/python3.11/dist-packages (1.6.1)\n",
            "Requirement already satisfied: scipy>=1.6.0 in /usr/local/lib/python3.11/dist-packages (from scikit-learn) (1.13.1)\n",
            "Requirement already satisfied: joblib>=1.2.0 in /usr/local/lib/python3.11/dist-packages (from scikit-learn) (1.4.2)\n",
            "Requirement already satisfied: threadpoolctl>=3.1.0 in /usr/local/lib/python3.11/dist-packages (from scikit-learn) (3.5.0)\n"
          ]
        }
      ],
      "source": [
        "# Install required packages\n",
        "!pip install networkx numpy scikit-learn\n",
        "\n",
        "import re\n",
        "import numpy as np\n",
        "import networkx as nx\n",
        "from sklearn.feature_extraction.text import CountVectorizer, TfidfTransformer\n",
        "from IPython.display import display\n",
        "import ipywidgets as widgets"
      ]
    },
    {
      "cell_type": "code",
      "execution_count": null,
      "metadata": {
        "id": "GN9bNBs3YZZt"
      },
      "outputs": [],
      "source": [
        "def split_into_sentences(text):\n",
        "    \"\"\"A simple sentence tokenizer that doesn't rely on NLTK\"\"\"\n",
        "    # Split text based on common sentence terminators\n",
        "    text = text.replace('!', '.')\n",
        "    text = text.replace('?', '.')\n",
        "    # Handle common abbreviations\n",
        "    text = text.replace('Dr.', 'Dr')\n",
        "    text = text.replace('Mr.', 'Mr')\n",
        "    text = text.replace('Mrs.', 'Mrs')\n",
        "    text = text.replace('Ms.', 'Ms')\n",
        "    text = text.replace('Prof.', 'Prof')\n",
        "    text = text.replace('e.g.', 'eg')\n",
        "    text = text.replace('i.e.', 'ie')\n",
        "\n",
        "    # Split into sentences\n",
        "    sentences = [s.strip() + '.' for s in text.split('.') if s.strip()]\n",
        "    return sentences"
      ]
    },
    {
      "cell_type": "code",
      "execution_count": null,
      "metadata": {
        "id": "eRSGVG_eYej8"
      },
      "outputs": [],
      "source": [
        "def preprocess_text(text):\n",
        "    \"\"\"Clean the text\"\"\"\n",
        "    # Remove special characters and extra whitespace\n",
        "    text = re.sub(r'\\s+', ' ', text)\n",
        "    text = re.sub(r'[^\\w\\s.,!?]', '', text)\n",
        "    return text.strip()"
      ]
    },
    {
      "cell_type": "code",
      "execution_count": null,
      "metadata": {
        "id": "yB8jLgquYlQV"
      },
      "outputs": [],
      "source": [
        "def create_similarity_matrix(sentences):\n",
        "    \"\"\"Create a similarity matrix using TF-IDF\"\"\"\n",
        "    # Create a count matrix\n",
        "    count_vectorizer = CountVectorizer(stop_words='english')\n",
        "    count_matrix = count_vectorizer.fit_transform(sentences)\n",
        "\n",
        "    # Convert to TF-IDF matrix\n",
        "    tfidf = TfidfTransformer()\n",
        "    tfidf_matrix = tfidf.fit_transform(count_matrix)\n",
        "\n",
        "    # Calculate cosine similarity\n",
        "    similarity_matrix = (tfidf_matrix * tfidf_matrix.T).toarray()\n",
        "\n",
        "    return similarity_matrix"
      ]
    },
    {
      "cell_type": "code",
      "execution_count": null,
      "metadata": {
        "id": "yfK5XbxlYsEU"
      },
      "outputs": [],
      "source": [
        "def text_rank_summarize(text, num_sentences=3):\n",
        "    \"\"\"Summarize text using TextRank algorithm\"\"\"\n",
        "    try:\n",
        "        # Preprocess text\n",
        "        text = preprocess_text(text)\n",
        "\n",
        "        # Split into sentences\n",
        "        sentences = split_into_sentences(text)\n",
        "\n",
        "        # If there are fewer sentences than requested, return the whole text\n",
        "        if len(sentences) <= num_sentences:\n",
        "            return text\n",
        "\n",
        "        # Create similarity matrix\n",
        "        similarity_matrix = create_similarity_matrix(sentences)\n",
        "\n",
        "        # Create graph and apply PageRank\n",
        "        nx_graph = nx.from_numpy_array(similarity_matrix)\n",
        "        scores = nx.pagerank(nx_graph)\n",
        "\n",
        "        # Sort sentences by score\n",
        "        ranked_sentences = sorted(((scores[i], s) for i, s in enumerate(sentences)), reverse=True)\n",
        "\n",
        "        # Select top sentences\n",
        "        selected_sentences = [s for _, s in ranked_sentences[:num_sentences]]\n",
        "\n",
        "        # Reorder sentences based on their original position\n",
        "        original_order = []\n",
        "        for sentence in sentences:\n",
        "            if sentence in selected_sentences:\n",
        "                original_order.append(sentence)\n",
        "\n",
        "        # Join sentences\n",
        "        summary = ' '.join(original_order)\n",
        "        return summary\n",
        "\n",
        "    except Exception as e:\n",
        "        return f\"Error generating summary: {str(e)}\""
      ]
    },
    {
      "cell_type": "code",
      "execution_count": null,
      "metadata": {
        "colab": {
          "base_uri": "https://localhost:8080/",
          "height": 564,
          "referenced_widgets": [
            "06d3b646bd0c4032bd28ac549628d4db",
            "2647ed63df89469d8c2910a5eefb8fd3",
            "90e637e62bec44f187104620a33dc9e2",
            "b4173073b4f348c8ba8d08a4712e4afa",
            "d8fd0c387b4b4bc8b443a5ad10ffb9b2",
            "62999ba753cf48a7b9e04115fa12d258",
            "ba94cecc65a949e69c09487c00857c90",
            "e82378cab7d94831a59a18af020ff235",
            "342d8adb699b4565993678d0c1f9bfe0",
            "370cdc33ba9749aaa545308328d78d2b",
            "c950f5b64b3a424bb95643f03bf812db",
            "7a2654f2ec6542ebb89cee516da8fec8",
            "f0879461943648dab7e0b61bab2096a3",
            "d38b8890d7b84e4596d6e14df142a588",
            "614d6829137549aa8b7079464de0c637",
            "f0cbc64e7e2742ea864a8b4c0c939587",
            "c5798112514b42bebe0940a6a37ce22b"
          ]
        },
        "id": "mgR1qGhGYurv",
        "outputId": "4b8b8423-d409-492e-9f17-fa0852acc89b"
      },
      "outputs": [
        {
          "data": {
            "application/vnd.jupyter.widget-view+json": {
              "model_id": "06d3b646bd0c4032bd28ac549628d4db",
              "version_major": 2,
              "version_minor": 0
            },
            "text/plain": [
              "HTML(value='<h1>News Article Summarizer</h1>')"
            ]
          },
          "metadata": {},
          "output_type": "display_data"
        },
        {
          "data": {
            "application/vnd.jupyter.widget-view+json": {
              "model_id": "b4173073b4f348c8ba8d08a4712e4afa",
              "version_major": 2,
              "version_minor": 0
            },
            "text/plain": [
              "Textarea(value='', description='Article:', layout=Layout(height='200px', width='100%'), placeholder='Paste you…"
            ]
          },
          "metadata": {},
          "output_type": "display_data"
        },
        {
          "data": {
            "application/vnd.jupyter.widget-view+json": {
              "model_id": "ba94cecc65a949e69c09487c00857c90",
              "version_major": 2,
              "version_minor": 0
            },
            "text/plain": [
              "IntSlider(value=3, continuous_update=False, description='Sentences:', max=10, min=1)"
            ]
          },
          "metadata": {},
          "output_type": "display_data"
        },
        {
          "data": {
            "application/vnd.jupyter.widget-view+json": {
              "model_id": "370cdc33ba9749aaa545308328d78d2b",
              "version_major": 2,
              "version_minor": 0
            },
            "text/plain": [
              "Button(button_style='success', description='Summarize', icon='check', style=ButtonStyle(), tooltip='Click to s…"
            ]
          },
          "metadata": {},
          "output_type": "display_data"
        },
        {
          "data": {
            "application/vnd.jupyter.widget-view+json": {
              "model_id": "f0879461943648dab7e0b61bab2096a3",
              "version_major": 2,
              "version_minor": 0
            },
            "text/plain": [
              "HTML(value='<h2>Summary:</h2>')"
            ]
          },
          "metadata": {},
          "output_type": "display_data"
        },
        {
          "data": {
            "application/vnd.jupyter.widget-view+json": {
              "model_id": "f0cbc64e7e2742ea864a8b4c0c939587",
              "version_major": 2,
              "version_minor": 0
            },
            "text/plain": [
              "Output(layout=Layout(border='1px solid #ddd', margin='10px 0', min_height='100px', padding='10px'))"
            ]
          },
          "metadata": {},
          "output_type": "display_data"
        },
        {
          "name": "stdout",
          "output_type": "stream",
          "text": [
            "Simplified News Article Summarizer is ready to use! Enter your text and click 'Summarize'.\n"
          ]
        }
      ],
      "source": [
        "# Create the user interface\n",
        "article_input = widgets.Textarea(\n",
        "    value='',\n",
        "    placeholder='Paste your news article here...',\n",
        "    description='Article:',\n",
        "    disabled=False,\n",
        "    layout=widgets.Layout(width='100%', height='200px')\n",
        ")\n",
        "\n",
        "sentence_slider = widgets.IntSlider(\n",
        "    value=3,\n",
        "    min=1,\n",
        "    max=10,\n",
        "    step=1,\n",
        "    description='Sentences:',\n",
        "    disabled=False,\n",
        "    continuous_update=False,\n",
        "    orientation='horizontal',\n",
        "    readout=True,\n",
        "    readout_format='d'\n",
        ")\n",
        "\n",
        "summary_output = widgets.Output(\n",
        "    layout=widgets.Layout(border='1px solid #ddd', padding='10px', min_height='100px', margin='10px 0')\n",
        ")\n",
        "\n",
        "summarize_button = widgets.Button(\n",
        "    description='Summarize',\n",
        "    disabled=False,\n",
        "    button_style='success',\n",
        "    tooltip='Click to summarize the text',\n",
        "    icon='check'\n",
        ")\n",
        "\n",
        "# Define button click handler\n",
        "def on_button_clicked(b):\n",
        "    summary_output.clear_output()\n",
        "\n",
        "    text = article_input.value\n",
        "    sentences = sentence_slider.value\n",
        "\n",
        "    if not text.strip():\n",
        "        with summary_output:\n",
        "            print(\"Please enter an article to summarize.\")\n",
        "        return\n",
        "\n",
        "    with summary_output:\n",
        "        print(\"Generating summary...\")\n",
        "        summary = text_rank_summarize(text, sentences)\n",
        "        summary_output.clear_output()\n",
        "        print(summary)\n",
        "\n",
        "# Connect the button click event to the handler\n",
        "summarize_button.on_click(on_button_clicked)\n",
        "\n",
        "# Create a header\n",
        "header = widgets.HTML(value=\"<h1>News Article Summarizer</h1>\")\n",
        "\n",
        "# Display all widgets\n",
        "display(header)\n",
        "display(article_input)\n",
        "display(sentence_slider)\n",
        "display(summarize_button)\n",
        "display(widgets.HTML(value=\"<h2>Summary:</h2>\"))\n",
        "display(summary_output)\n",
        "\n",
        "print(\"Simplified News Article Summarizer is ready to use! Enter your text and click 'Summarize'.\")"
      ]
    }
  ],
  "metadata": {
    "colab": {
      "provenance": []
    },
    "kernelspec": {
      "display_name": "Python 3",
      "name": "python3"
    },
    "language_info": {
      "name": "python"
    },
    "widgets": {
      "application/vnd.jupyter.widget-state+json": {
        "06d3b646bd0c4032bd28ac549628d4db": {
          "model_module": "@jupyter-widgets/controls",
          "model_module_version": "1.5.0",
          "model_name": "HTMLModel",
          "state": {
            "_dom_classes": [],
            "_model_module": "@jupyter-widgets/controls",
            "_model_module_version": "1.5.0",
            "_model_name": "HTMLModel",
            "_view_count": null,
            "_view_module": "@jupyter-widgets/controls",
            "_view_module_version": "1.5.0",
            "_view_name": "HTMLView",
            "description": "",
            "description_tooltip": null,
            "layout": "IPY_MODEL_2647ed63df89469d8c2910a5eefb8fd3",
            "placeholder": "​",
            "style": "IPY_MODEL_90e637e62bec44f187104620a33dc9e2",
            "value": "<h1>News Article Summarizer</h1>"
          }
        },
        "2647ed63df89469d8c2910a5eefb8fd3": {
          "model_module": "@jupyter-widgets/base",
          "model_module_version": "1.2.0",
          "model_name": "LayoutModel",
          "state": {
            "_model_module": "@jupyter-widgets/base",
            "_model_module_version": "1.2.0",
            "_model_name": "LayoutModel",
            "_view_count": null,
            "_view_module": "@jupyter-widgets/base",
            "_view_module_version": "1.2.0",
            "_view_name": "LayoutView",
            "align_content": null,
            "align_items": null,
            "align_self": null,
            "border": null,
            "bottom": null,
            "display": null,
            "flex": null,
            "flex_flow": null,
            "grid_area": null,
            "grid_auto_columns": null,
            "grid_auto_flow": null,
            "grid_auto_rows": null,
            "grid_column": null,
            "grid_gap": null,
            "grid_row": null,
            "grid_template_areas": null,
            "grid_template_columns": null,
            "grid_template_rows": null,
            "height": null,
            "justify_content": null,
            "justify_items": null,
            "left": null,
            "margin": null,
            "max_height": null,
            "max_width": null,
            "min_height": null,
            "min_width": null,
            "object_fit": null,
            "object_position": null,
            "order": null,
            "overflow": null,
            "overflow_x": null,
            "overflow_y": null,
            "padding": null,
            "right": null,
            "top": null,
            "visibility": null,
            "width": null
          }
        },
        "342d8adb699b4565993678d0c1f9bfe0": {
          "model_module": "@jupyter-widgets/controls",
          "model_module_version": "1.5.0",
          "model_name": "SliderStyleModel",
          "state": {
            "_model_module": "@jupyter-widgets/controls",
            "_model_module_version": "1.5.0",
            "_model_name": "SliderStyleModel",
            "_view_count": null,
            "_view_module": "@jupyter-widgets/base",
            "_view_module_version": "1.2.0",
            "_view_name": "StyleView",
            "description_width": "",
            "handle_color": null
          }
        },
        "370cdc33ba9749aaa545308328d78d2b": {
          "model_module": "@jupyter-widgets/controls",
          "model_module_version": "1.5.0",
          "model_name": "ButtonModel",
          "state": {
            "_dom_classes": [],
            "_model_module": "@jupyter-widgets/controls",
            "_model_module_version": "1.5.0",
            "_model_name": "ButtonModel",
            "_view_count": null,
            "_view_module": "@jupyter-widgets/controls",
            "_view_module_version": "1.5.0",
            "_view_name": "ButtonView",
            "button_style": "success",
            "description": "Summarize",
            "disabled": false,
            "icon": "check",
            "layout": "IPY_MODEL_c950f5b64b3a424bb95643f03bf812db",
            "style": "IPY_MODEL_7a2654f2ec6542ebb89cee516da8fec8",
            "tooltip": "Click to summarize the text"
          }
        },
        "614d6829137549aa8b7079464de0c637": {
          "model_module": "@jupyter-widgets/controls",
          "model_module_version": "1.5.0",
          "model_name": "DescriptionStyleModel",
          "state": {
            "_model_module": "@jupyter-widgets/controls",
            "_model_module_version": "1.5.0",
            "_model_name": "DescriptionStyleModel",
            "_view_count": null,
            "_view_module": "@jupyter-widgets/base",
            "_view_module_version": "1.2.0",
            "_view_name": "StyleView",
            "description_width": ""
          }
        },
        "62999ba753cf48a7b9e04115fa12d258": {
          "model_module": "@jupyter-widgets/controls",
          "model_module_version": "1.5.0",
          "model_name": "DescriptionStyleModel",
          "state": {
            "_model_module": "@jupyter-widgets/controls",
            "_model_module_version": "1.5.0",
            "_model_name": "DescriptionStyleModel",
            "_view_count": null,
            "_view_module": "@jupyter-widgets/base",
            "_view_module_version": "1.2.0",
            "_view_name": "StyleView",
            "description_width": ""
          }
        },
        "7a2654f2ec6542ebb89cee516da8fec8": {
          "model_module": "@jupyter-widgets/controls",
          "model_module_version": "1.5.0",
          "model_name": "ButtonStyleModel",
          "state": {
            "_model_module": "@jupyter-widgets/controls",
            "_model_module_version": "1.5.0",
            "_model_name": "ButtonStyleModel",
            "_view_count": null,
            "_view_module": "@jupyter-widgets/base",
            "_view_module_version": "1.2.0",
            "_view_name": "StyleView",
            "button_color": null,
            "font_weight": ""
          }
        },
        "90e637e62bec44f187104620a33dc9e2": {
          "model_module": "@jupyter-widgets/controls",
          "model_module_version": "1.5.0",
          "model_name": "DescriptionStyleModel",
          "state": {
            "_model_module": "@jupyter-widgets/controls",
            "_model_module_version": "1.5.0",
            "_model_name": "DescriptionStyleModel",
            "_view_count": null,
            "_view_module": "@jupyter-widgets/base",
            "_view_module_version": "1.2.0",
            "_view_name": "StyleView",
            "description_width": ""
          }
        },
        "b4173073b4f348c8ba8d08a4712e4afa": {
          "model_module": "@jupyter-widgets/controls",
          "model_module_version": "1.5.0",
          "model_name": "TextareaModel",
          "state": {
            "_dom_classes": [],
            "_model_module": "@jupyter-widgets/controls",
            "_model_module_version": "1.5.0",
            "_model_name": "TextareaModel",
            "_view_count": null,
            "_view_module": "@jupyter-widgets/controls",
            "_view_module_version": "1.5.0",
            "_view_name": "TextareaView",
            "continuous_update": true,
            "description": "Article:",
            "description_tooltip": null,
            "disabled": false,
            "layout": "IPY_MODEL_d8fd0c387b4b4bc8b443a5ad10ffb9b2",
            "placeholder": "Paste your news article here...",
            "rows": null,
            "style": "IPY_MODEL_62999ba753cf48a7b9e04115fa12d258",
            "value": "Busting myths about India’s population growth. An effective media strategy can change social attitudes and promote a sustainable population policy. by POONAM MUTTREJA, SANGHAMITRA SINGH, MARTAND KAUSHIK 7 min read. India’s population has long been a subject rife with myths and misinformation, often exacerbated by a global narrative that pits growing numbers against limited resources. This narrative, bolstered by India’s recent overtaking of China as the world’s most populous country, has led to the widespread belief that India’s burgeoning population is at the root of several pressing global issues, from resource scarcity to climate change. These misconceptions have fuelled fears and diverted policy discourses in unproductive directions—such as demands for strict population control measures. In addition to these global myths, fearmongering around the growing population of minorities and calls for population control measures by political leaders in India has further compounded this alarmist portrayal. These false ideas can significantly hinder civil society by perpetuating stereotypes, influencing policy decisions adversely, and shifting attention from critical issues that need addressing. In this context, Population Foundation of India has attempted to reshape the narrative by promoting evidence-based discussions through extensive media engagements. This article delves into the myths that we have tried to dispel, our strategy and interventions, and the challenges that we have faced. Why it’s necessary to counter population myths At present, several Indian states have measures in place—such as male and female sterilisation—that incentivise family planning. In addition, several Private Members’ bills that propose stringent population control measures, such as disincentivising couples from having more than two children, have been introduced in Parliament. Some states, such as Assam, Rajasthan, and Madhya Pradesh, have even enforced legislation involving a two-child policy—where government benefits are denied to families with more than two children or panchayat election candidates are barred from contesting. In July 2021, the Law Commission of Uttar Pradesh presented the Uttar Pradesh Population (Control, Stabilization, and Welfare) Bill, which proposed directives to control the state’s rising population. While these steps seem tame when compared to coercive approaches to population control such as the forced sterilisations that took place during the Emergency (1976–78), they still do not adhere to the rights-based spirit of India’s National Population Policy 2000. It must also be noted that the main method of population control in India has historically been sterilisation, the burden of which has disproportionately fallen on women. Given that a significant portion of India’s population falls in the reproductive age group (15–49 years), it is temporary methods of contraception such as condoms, and not sterilisation, that is the need of the hour. However, contraception does not figure very prominently in the population discourse. According to the National Family Health Survey (NFHS-5), approximately 9.4 percent of women of reproductive age in India—which translates to roughly 21 million women—do not have access to contraceptives or the agency to use them. We must ensure that women have the freedom to decide if they want to have children, when they want to have them, and at what intervals. Measures taken for this have proven effective in states such as Kerala and Tamil Nadu without having to resort to stringent population control policies. It is difficult to pin down the effect that the overpopulation discourse has had on global policies, especially those related to climate change. However, there are several examples of mainstream media reports on the presumed connection between India’s growing population and climate change. This sorely misjudges the problem and ignores the correlation between greenhouse gas emissions and socio-economic conditions, which in a sense absolves the richest 1 percent of the global population whose carbon emissions outweigh those of more than half the poorest people on the planet. All of this makes it imperative to diagnose and dispel population myths as soon as they arise. Based on our experience, these are some of the recurring myths around India’s population. Myth 1: India is witnessing a population explosion. In April 2023, according to a UN estimation, India surpassed China to become the world’s most populous nation; this news drew global attention. The milestone was misinterpreted as evidence of an unchecked population explosion, when in fact India has witnessed a slowdown in its population growth. According to data from NFHS-5, India’s total fertility rate (TFR), which is the average number of children born to a woman over her lifetime, has declined significantly from 3.4 in 1992–93 to 2.0 in 2019–21. A study by the Institute for Health Metrics and Evaluation, published in The Lancet in 2020, has predicted that India’s population may peak at 1.6 billion by 2048 and will be approximately 1.1 billion in the year 2100. These trends indicate that India is on track to achieving population stabilisation. Myth 2: India’s population is responsible for climate change. Another common myth is that India’s population is a major driver of climate change. This misconception overlooks the critical role of consumption patterns. Global evidence shows that, particularly in developed countries, climate change is more closely related to consumption patterns than to population numbers. High-income countries, which have smaller populations compared to many developing nations, contribute disproportionately to global carbon emissions. For instance, the United States, with about 4 percent of the global population, accounts for approximately 15 percent of global carbon emissions. In contrast, India, with approximately 17 percent of the global population, contributes about 7 percent of global carbon emissions. By shifting the focus from sheer numbers to sustainable development and responsible consumption, the narrative can be realigned to address the true drivers of climate change. Myth 3: India’s minorities are conspiring to overtake the majority. Fearmongering about the growth of minority populations, particularly Muslims, has fuelled divisive rhetoric in India. Contrary to these claims, data reveals that all religious groups in India have experienced a secular decline in decadal growth rates, with the decline being more pronounced among Muslims than Hindus over the past thirty years. The decadal growth rate between 2001 and 2011 declined by 4.7 percentage points for Muslims compared to 3.1 for Hindus. Additionally, the TFR among Muslims decreased from 4.4 in 1992–93 to 2.4 in 2019–21. Population growth and fertility rates are influenced by levels of investment in education, health, and women’s empowerment and socio-economic factors, not religion. For instance, the TFR of the Hindu population in Bihar (2.88) is much higher than the TFR among Muslims in Kerala (2.25). These statistics debunk the myth of a deliberate ploy by minorities and underscore the need for a data-driven approach to demographic issues. Fearmongering about the growth of minority populations, particularly Muslims, has fuelled divisive rhetoric in India. | Picture courtesy: Mitch Altman / CC BY. Making research-based information dissemination work. The myths stated above have been echoed by mainstream media, politicians, and even civil society at regular intervals in the last few decades. A cornerstone of our work, therefore, has been to issue timely rebuttals founded on extensive research and data, which we have published on both global and domestic media platforms. Here are some key elements of our research-based media engagement strategy. 1. Facilitating internal collaboration: Our knowledge-management team works towards generating and collating up-to-date research, which our communications and media team then designs and disseminates through our media network. Prompt action ensures that misinformation is nipped in the bud and prevented from spawning additional false narratives. We also leverage technology for data analysis, content creation, and dissemination, which has improved our efficiency and reach. 2. Simplifying jargon and technical concepts: Simplifying the language we use, minimising jargon, and breaking down academic concepts has helped us promote efficient communication and wide consumption. To counter fears around India’s population numbers, we have explained concepts such as replacement-level fertility, various growth rates, and existing statistical models for population projections. Additionally, we monitor global research on population dynamics and sexual and reproductive health. We also draw connections between different data indicators in surveys such as the Census and the NFHS to create a better understanding of what drives fertility. Through our articles, we emphasise that while population is often viewed as a ‘numbers’ problem, it actually concerns people. Human development—particularly women’s education, empowerment, and socio-economic context—is often the driving force behind the numbers. All of this has been instrumental in educating both the public and policymakers, ensuring that decisions are based on facts rather than misconceptions. 3. Creating resources for the media: Our approach has been complemented by our media-centric projects, which include initiatives such as the Family Planning Resource Bank—an attempt to share with the media the latest developments, information, and research on family planning, population, and sexual and reproductive health issues. We are currently working on upgrading the content and design of the resource bank by including more data and generative AI technology to answer queries. We also partnered with the People’s Archive of Rural India (PARI) to document vulnerable women’s voices across India through 50 on-ground reports. 4. Working with policymakers and the government: We engage with elected representatives, experts, and influencers to promote a rights-based, choice-centric approach to family planning. For this, we provide them with well-researched, evidence-based articles, reports, and policy briefs. Population Foundation of India’s fact-finding report titled Robbed of Choice and Dignity: Situational Assessment of Sterilization Camps in Bilaspur District played a crucial role in influencing the Supreme Court’s 2016 judgement to discontinue the camp mode of sterilisation services and improve the quality of care in family planning and improve the quality of care in family planning. Our strategic engagement efforts, along with those of other developmental agencies and organisations, have contributed to the expansion of the basket of contraceptive choices in the public health system, including the introduction of injectables and implants. This has been achieved through persistent dialogue and engagement with health authorities and policymakers. Population Foundation of India has also contributed to several important documents and policies in collaboration with NITI Aayog and the Ministry of Health and Family Welfare. These efforts ensure that our research and recommendations are incorporated into national policies and programmes, thereby enhancing their impact. Challenges in media engagement Despite presenting evidence-based work, we encounter several challenges in getting through to the media and other collaborators to correct population misinformation. These challenges include: 1. Pre-existing biases and misconceptions: Many stakeholders have deep-seated biases or misconceptions about population dynamics that are difficult to change, even with clear evidence. This is often fuelled by sensationalist media coverage and political rhetoric. Our approach to addressing this has been to engage with stakeholders early on and consistently; build relationships based on trust; and provide continuous education through webinars, calls, and one-on-one meetings. Tailoring the message to cater to the specific concerns and interests of the audience can also help break down these biases. 2. Sensationalism in the media: Media outlets often prioritise sensational stories that can perpetuate myths and misinformation over nuanced, evidence-based reporting. Therefore, we try to work closely with journalists and media houses to provide them with ready-to-use, fact-based content that is engaging and newsworthy. Offering exclusive stories, infographics, and expert interviews can help align media interests with factual reporting. 3. Complexity of data: The complexity of statistical data and population models can be a barrier for non-experts, making it easier for misinformation to take root. We try to simplify concepts by explaining data to journalists in simple language and by illustrating it through clear visuals and infographics. 4. Political and ideological resistance: Some political and ideological groups may resist evidence-based narratives that contradict their agendas, particularly on sensitive issues such as population control and minority growth rates. Therefore, we focus on presenting data in a non-confrontational manner, highlighting common goals such as economic development and public health. By addressing these challenges with targeted strategies, we aim to amplify our impact and ensure that accurate, evidence-based information shapes the discourse around population issues in India. In this age of misinformation and disinformation, the media’s role in disseminating such information is incredibly important to combat myths as well as to shape informed public discourse, bringing clarity and truth to complex population issues. — Know more * Read this article to learn how promoting rights and education can be an effective population control measure. * Read this article to know more about the psychological drivers of misinformation belief. * Listen to this podcast to understand the connection between consumption and climate change."
          }
        },
        "ba94cecc65a949e69c09487c00857c90": {
          "model_module": "@jupyter-widgets/controls",
          "model_module_version": "1.5.0",
          "model_name": "IntSliderModel",
          "state": {
            "_dom_classes": [],
            "_model_module": "@jupyter-widgets/controls",
            "_model_module_version": "1.5.0",
            "_model_name": "IntSliderModel",
            "_view_count": null,
            "_view_module": "@jupyter-widgets/controls",
            "_view_module_version": "1.5.0",
            "_view_name": "IntSliderView",
            "continuous_update": false,
            "description": "Sentences:",
            "description_tooltip": null,
            "disabled": false,
            "layout": "IPY_MODEL_e82378cab7d94831a59a18af020ff235",
            "max": 10,
            "min": 1,
            "orientation": "horizontal",
            "readout": true,
            "readout_format": "d",
            "step": 1,
            "style": "IPY_MODEL_342d8adb699b4565993678d0c1f9bfe0",
            "value": 2
          }
        },
        "c5798112514b42bebe0940a6a37ce22b": {
          "model_module": "@jupyter-widgets/base",
          "model_module_version": "1.2.0",
          "model_name": "LayoutModel",
          "state": {
            "_model_module": "@jupyter-widgets/base",
            "_model_module_version": "1.2.0",
            "_model_name": "LayoutModel",
            "_view_count": null,
            "_view_module": "@jupyter-widgets/base",
            "_view_module_version": "1.2.0",
            "_view_name": "LayoutView",
            "align_content": null,
            "align_items": null,
            "align_self": null,
            "border": "1px solid #ddd",
            "bottom": null,
            "display": null,
            "flex": null,
            "flex_flow": null,
            "grid_area": null,
            "grid_auto_columns": null,
            "grid_auto_flow": null,
            "grid_auto_rows": null,
            "grid_column": null,
            "grid_gap": null,
            "grid_row": null,
            "grid_template_areas": null,
            "grid_template_columns": null,
            "grid_template_rows": null,
            "height": null,
            "justify_content": null,
            "justify_items": null,
            "left": null,
            "margin": "10px 0",
            "max_height": null,
            "max_width": null,
            "min_height": "100px",
            "min_width": null,
            "object_fit": null,
            "object_position": null,
            "order": null,
            "overflow": null,
            "overflow_x": null,
            "overflow_y": null,
            "padding": "10px",
            "right": null,
            "top": null,
            "visibility": null,
            "width": null
          }
        },
        "c950f5b64b3a424bb95643f03bf812db": {
          "model_module": "@jupyter-widgets/base",
          "model_module_version": "1.2.0",
          "model_name": "LayoutModel",
          "state": {
            "_model_module": "@jupyter-widgets/base",
            "_model_module_version": "1.2.0",
            "_model_name": "LayoutModel",
            "_view_count": null,
            "_view_module": "@jupyter-widgets/base",
            "_view_module_version": "1.2.0",
            "_view_name": "LayoutView",
            "align_content": null,
            "align_items": null,
            "align_self": null,
            "border": null,
            "bottom": null,
            "display": null,
            "flex": null,
            "flex_flow": null,
            "grid_area": null,
            "grid_auto_columns": null,
            "grid_auto_flow": null,
            "grid_auto_rows": null,
            "grid_column": null,
            "grid_gap": null,
            "grid_row": null,
            "grid_template_areas": null,
            "grid_template_columns": null,
            "grid_template_rows": null,
            "height": null,
            "justify_content": null,
            "justify_items": null,
            "left": null,
            "margin": null,
            "max_height": null,
            "max_width": null,
            "min_height": null,
            "min_width": null,
            "object_fit": null,
            "object_position": null,
            "order": null,
            "overflow": null,
            "overflow_x": null,
            "overflow_y": null,
            "padding": null,
            "right": null,
            "top": null,
            "visibility": null,
            "width": null
          }
        },
        "d38b8890d7b84e4596d6e14df142a588": {
          "model_module": "@jupyter-widgets/base",
          "model_module_version": "1.2.0",
          "model_name": "LayoutModel",
          "state": {
            "_model_module": "@jupyter-widgets/base",
            "_model_module_version": "1.2.0",
            "_model_name": "LayoutModel",
            "_view_count": null,
            "_view_module": "@jupyter-widgets/base",
            "_view_module_version": "1.2.0",
            "_view_name": "LayoutView",
            "align_content": null,
            "align_items": null,
            "align_self": null,
            "border": null,
            "bottom": null,
            "display": null,
            "flex": null,
            "flex_flow": null,
            "grid_area": null,
            "grid_auto_columns": null,
            "grid_auto_flow": null,
            "grid_auto_rows": null,
            "grid_column": null,
            "grid_gap": null,
            "grid_row": null,
            "grid_template_areas": null,
            "grid_template_columns": null,
            "grid_template_rows": null,
            "height": null,
            "justify_content": null,
            "justify_items": null,
            "left": null,
            "margin": null,
            "max_height": null,
            "max_width": null,
            "min_height": null,
            "min_width": null,
            "object_fit": null,
            "object_position": null,
            "order": null,
            "overflow": null,
            "overflow_x": null,
            "overflow_y": null,
            "padding": null,
            "right": null,
            "top": null,
            "visibility": null,
            "width": null
          }
        },
        "d8fd0c387b4b4bc8b443a5ad10ffb9b2": {
          "model_module": "@jupyter-widgets/base",
          "model_module_version": "1.2.0",
          "model_name": "LayoutModel",
          "state": {
            "_model_module": "@jupyter-widgets/base",
            "_model_module_version": "1.2.0",
            "_model_name": "LayoutModel",
            "_view_count": null,
            "_view_module": "@jupyter-widgets/base",
            "_view_module_version": "1.2.0",
            "_view_name": "LayoutView",
            "align_content": null,
            "align_items": null,
            "align_self": null,
            "border": null,
            "bottom": null,
            "display": null,
            "flex": null,
            "flex_flow": null,
            "grid_area": null,
            "grid_auto_columns": null,
            "grid_auto_flow": null,
            "grid_auto_rows": null,
            "grid_column": null,
            "grid_gap": null,
            "grid_row": null,
            "grid_template_areas": null,
            "grid_template_columns": null,
            "grid_template_rows": null,
            "height": "200px",
            "justify_content": null,
            "justify_items": null,
            "left": null,
            "margin": null,
            "max_height": null,
            "max_width": null,
            "min_height": null,
            "min_width": null,
            "object_fit": null,
            "object_position": null,
            "order": null,
            "overflow": null,
            "overflow_x": null,
            "overflow_y": null,
            "padding": null,
            "right": null,
            "top": null,
            "visibility": null,
            "width": "100%"
          }
        },
        "e82378cab7d94831a59a18af020ff235": {
          "model_module": "@jupyter-widgets/base",
          "model_module_version": "1.2.0",
          "model_name": "LayoutModel",
          "state": {
            "_model_module": "@jupyter-widgets/base",
            "_model_module_version": "1.2.0",
            "_model_name": "LayoutModel",
            "_view_count": null,
            "_view_module": "@jupyter-widgets/base",
            "_view_module_version": "1.2.0",
            "_view_name": "LayoutView",
            "align_content": null,
            "align_items": null,
            "align_self": null,
            "border": null,
            "bottom": null,
            "display": null,
            "flex": null,
            "flex_flow": null,
            "grid_area": null,
            "grid_auto_columns": null,
            "grid_auto_flow": null,
            "grid_auto_rows": null,
            "grid_column": null,
            "grid_gap": null,
            "grid_row": null,
            "grid_template_areas": null,
            "grid_template_columns": null,
            "grid_template_rows": null,
            "height": null,
            "justify_content": null,
            "justify_items": null,
            "left": null,
            "margin": null,
            "max_height": null,
            "max_width": null,
            "min_height": null,
            "min_width": null,
            "object_fit": null,
            "object_position": null,
            "order": null,
            "overflow": null,
            "overflow_x": null,
            "overflow_y": null,
            "padding": null,
            "right": null,
            "top": null,
            "visibility": null,
            "width": null
          }
        },
        "f0879461943648dab7e0b61bab2096a3": {
          "model_module": "@jupyter-widgets/controls",
          "model_module_version": "1.5.0",
          "model_name": "HTMLModel",
          "state": {
            "_dom_classes": [],
            "_model_module": "@jupyter-widgets/controls",
            "_model_module_version": "1.5.0",
            "_model_name": "HTMLModel",
            "_view_count": null,
            "_view_module": "@jupyter-widgets/controls",
            "_view_module_version": "1.5.0",
            "_view_name": "HTMLView",
            "description": "",
            "description_tooltip": null,
            "layout": "IPY_MODEL_d38b8890d7b84e4596d6e14df142a588",
            "placeholder": "​",
            "style": "IPY_MODEL_614d6829137549aa8b7079464de0c637",
            "value": "<h2>Summary:</h2>"
          }
        },
        "f0cbc64e7e2742ea864a8b4c0c939587": {
          "model_module": "@jupyter-widgets/output",
          "model_module_version": "1.0.0",
          "model_name": "OutputModel",
          "state": {
            "_dom_classes": [],
            "_model_module": "@jupyter-widgets/output",
            "_model_module_version": "1.0.0",
            "_model_name": "OutputModel",
            "_view_count": null,
            "_view_module": "@jupyter-widgets/output",
            "_view_module_version": "1.0.0",
            "_view_name": "OutputView",
            "layout": "IPY_MODEL_c5798112514b42bebe0940a6a37ce22b",
            "msg_id": "",
            "outputs": [
              {
                "name": "stdout",
                "output_type": "stream",
                "text": [
                  "Busting myths about Indias population growth. Myth 2 Indias population is responsible for climate change.\n"
                ]
              }
            ]
          }
        }
      }
    }
  },
  "nbformat": 4,
  "nbformat_minor": 0
}
